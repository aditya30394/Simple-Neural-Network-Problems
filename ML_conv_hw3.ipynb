{
  "nbformat": 4,
  "nbformat_minor": 0,
  "metadata": {
    "colab": {
      "name": "ML_conv_hw3.ipynb",
      "version": "0.3.2",
      "provenance": [],
      "collapsed_sections": []
    },
    "kernelspec": {
      "name": "python3",
      "display_name": "Python 3"
    }
  },
  "cells": [
    {
      "metadata": {
        "id": "F2ds_IMekBNW",
        "colab_type": "code",
        "colab": {}
      },
      "cell_type": "code",
      "source": [
        "# Question 1: Convolution Operations\n",
        "import numpy as np\n",
        "\n",
        "\n",
        "# Question 1.a\n",
        "def ConvID(input_image, H):\n",
        "    final_size = input_image.shape[0] - H.shape[0] + 1\n",
        "    H = np.flip(H, axis=0)\n",
        "    output = np.zeros(final_size)\n",
        "    for i in range(1, input_image.shape[0] - 1):\n",
        "        output[i-1] = np.dot(H, input_image[i-1:i+2])\n",
        "    \n",
        "    return output"
      ],
      "execution_count": 0,
      "outputs": []
    },
    {
      "metadata": {
        "id": "UkRvXAc0uiNM",
        "colab_type": "code",
        "colab": {}
      },
      "cell_type": "code",
      "source": [
        "F = np.array([1, 2, 1, 3, 2, 3, 1, 2, 3, 8, 7, 8, 9, 9, 7, 8])\n",
        "W1 = np.array([1, 1, 1])\n",
        "W2 = np.array([1, 0, -1])"
      ],
      "execution_count": 0,
      "outputs": []
    },
    {
      "metadata": {
        "id": "k5hZI98XvA1C",
        "colab_type": "code",
        "outputId": "57d89c5e-ecda-4ff3-dc81-212e65eb8559",
        "colab": {
          "base_uri": "https://localhost:8080/",
          "height": 51
        }
      },
      "cell_type": "code",
      "source": [
        "# Question 1. a.i\n",
        "conv1 = ConvID(F, W1)\n",
        "print(conv1)\n",
        "print(conv1.shape)"
      ],
      "execution_count": 0,
      "outputs": [
        {
          "output_type": "stream",
          "text": [
            "[ 4.  6.  6.  8.  6.  6.  6. 13. 18. 23. 24. 26. 25. 24.]\n",
            "(14,)\n"
          ],
          "name": "stdout"
        }
      ]
    },
    {
      "metadata": {
        "id": "vOzmDmY6vFfi",
        "colab_type": "code",
        "outputId": "687950eb-0018-478e-dc5c-219b8cfc121e",
        "colab": {
          "base_uri": "https://localhost:8080/",
          "height": 51
        }
      },
      "cell_type": "code",
      "source": [
        "# Question 1. a.ii\n",
        "conv2 = ConvID(F, W2)\n",
        "print(conv2)\n",
        "print(conv2.shape)"
      ],
      "execution_count": 0,
      "outputs": [
        {
          "output_type": "stream",
          "text": [
            "[ 0.  1.  1.  0. -1. -1.  2.  6.  4.  0.  2.  1. -2. -1.]\n",
            "(14,)\n"
          ],
          "name": "stdout"
        }
      ]
    },
    {
      "metadata": {
        "id": "cK1uKWLGvSDY",
        "colab_type": "code",
        "outputId": "0436f03a-1d87-4171-cc71-2065b56ec99c",
        "colab": {
          "base_uri": "https://localhost:8080/",
          "height": 54
        }
      },
      "cell_type": "code",
      "source": [
        "\"\"\"\n",
        "http://www.songho.ca/dsp/convolution/convolution.html\n",
        "http://www.songho.ca/dsp/convolution/convolution2d_example.html\n",
        "https://github.com/aditya30394/PredictForestFires/blob/master/ML_HW1-KNN.ipynb\n",
        "https://docs.scipy.org/doc/numpy/reference/generated/numpy.flip.html\n",
        "http://setosa.io/ev/image-kernels/\n",
        "\"\"\""
      ],
      "execution_count": 0,
      "outputs": [
        {
          "output_type": "execute_result",
          "data": {
            "text/plain": [
              "'\\nhttp://www.songho.ca/dsp/convolution/convolution.html\\nhttp://www.songho.ca/dsp/convolution/convolution2d_example.html\\nhttps://github.com/aditya30394/PredictForestFires/blob/master/ML_HW1-KNN.ipynb\\nhttps://docs.scipy.org/doc/numpy/reference/generated/numpy.flip.html\\n'"
            ]
          },
          "metadata": {
            "tags": []
          },
          "execution_count": 5
        }
      ]
    },
    {
      "metadata": {
        "id": "XUHVTmck-Vh_",
        "colab_type": "code",
        "colab": {}
      },
      "cell_type": "code",
      "source": [
        "# Question 1. b.i\n",
        "\n",
        "def Conv2D(input_image, H):\n",
        "    final_size = input_image.shape[0] - H.shape[0] + 1\n",
        "    H = np.rot90(H,2)\n",
        "    output = np.zeros((final_size, final_size))\n",
        "    for i in range(1, input_image.shape[0] - 1):\n",
        "        for j in range(1, input_image.shape[1] - 1):\n",
        "            output[i-1][j-1] = np.sum(np.multiply(input_image[i-1:i+2, j-1:j+2],H))\n",
        "    \n",
        "    return output"
      ],
      "execution_count": 0,
      "outputs": []
    },
    {
      "metadata": {
        "id": "XtNe5-ETANKl",
        "colab_type": "code",
        "colab": {}
      },
      "cell_type": "code",
      "source": [
        "I = np.array([[164, 188, 164, 161, 195], [178, 201, 197, 150, 137], [174, 168, 181, 190, 184], [131, 179, 176, 185, 198], [92, 185, 179, 133, 167]])\n",
        "F1 = np.array([[1, 1, 1], [1, 1, 1], [1, 1, 1]])\n",
        "F2 = np.array([[-1, -2, -1], [0, 0, 0], [1, 2, 1]])\n",
        "F3 = np.array([[-1, -1, -1], [-1, 9, -1], [-1, -1, -1]])"
      ],
      "execution_count": 0,
      "outputs": []
    },
    {
      "metadata": {
        "id": "Faphlt42AXe6",
        "colab_type": "code",
        "outputId": "91114f4a-8bc3-486b-8645-e7f78a558aa2",
        "colab": {
          "base_uri": "https://localhost:8080/",
          "height": 204
        }
      },
      "cell_type": "code",
      "source": [
        "# Question 1. b.ii\n",
        "print(I)\n",
        "print(F1)\n",
        "print(Conv2D(I, F1))"
      ],
      "execution_count": 0,
      "outputs": [
        {
          "output_type": "stream",
          "text": [
            "[[164 188 164 161 195]\n",
            " [178 201 197 150 137]\n",
            " [174 168 181 190 184]\n",
            " [131 179 176 185 198]\n",
            " [ 92 185 179 133 167]]\n",
            "[[1 1 1]\n",
            " [1 1 1]\n",
            " [1 1 1]]\n",
            "[[1615. 1600. 1559.]\n",
            " [1585. 1627. 1598.]\n",
            " [1465. 1576. 1593.]]\n"
          ],
          "name": "stdout"
        }
      ]
    },
    {
      "metadata": {
        "id": "uXCySSK9Dch6",
        "colab_type": "code",
        "outputId": "487161f6-093d-44c0-f42f-e72b8e629242",
        "colab": {
          "base_uri": "https://localhost:8080/",
          "height": 204
        }
      },
      "cell_type": "code",
      "source": [
        "# Question 1. b.ii\n",
        "print(I)\n",
        "print(F2)\n",
        "print(Conv2D(I, F2))"
      ],
      "execution_count": 0,
      "outputs": [
        {
          "output_type": "stream",
          "text": [
            "[[164 188 164 161 195]\n",
            " [178 201 197 150 137]\n",
            " [174 168 181 190 184]\n",
            " [131 179 176 185 198]\n",
            " [ 92 185 179 133 167]]\n",
            "[[-1 -2 -1]\n",
            " [ 0  0  0]\n",
            " [ 1  2  1]]\n",
            "[[  13.  -43.  -64.]\n",
            " [ 112.   29. -110.]\n",
            " [  50.   44.  133.]]\n"
          ],
          "name": "stdout"
        }
      ]
    },
    {
      "metadata": {
        "id": "Pk02r583EBD5",
        "colab_type": "code",
        "outputId": "07d24ef9-b418-4334-9744-eb062d5573c7",
        "colab": {
          "base_uri": "https://localhost:8080/",
          "height": 204
        }
      },
      "cell_type": "code",
      "source": [
        "# Question 1. b.ii\n",
        "print(I)\n",
        "print(F3)\n",
        "print(Conv2D(I, F3))"
      ],
      "execution_count": 0,
      "outputs": [
        {
          "output_type": "stream",
          "text": [
            "[[164 188 164 161 195]\n",
            " [178 201 197 150 137]\n",
            " [174 168 181 190 184]\n",
            " [131 179 176 185 198]\n",
            " [ 92 185 179 133 167]]\n",
            "[[-1 -1 -1]\n",
            " [-1  9 -1]\n",
            " [-1 -1 -1]]\n",
            "[[395. 370. -59.]\n",
            " [ 95. 183. 302.]\n",
            " [325. 184. 257.]]\n"
          ],
          "name": "stdout"
        }
      ]
    },
    {
      "metadata": {
        "id": "0h5_VpSbED2p",
        "colab_type": "code",
        "colab": {}
      },
      "cell_type": "code",
      "source": [
        ""
      ],
      "execution_count": 0,
      "outputs": []
    }
  ]
}