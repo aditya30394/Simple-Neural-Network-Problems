{
  "nbformat": 4,
  "nbformat_minor": 0,
  "metadata": {
    "colab": {
      "name": "IMDB.ipynb",
      "version": "0.3.2",
      "provenance": [],
      "collapsed_sections": []
    },
    "kernelspec": {
      "name": "python3",
      "display_name": "Python 3"
    }
  },
  "cells": [
    {
      "metadata": {
        "id": "7tUfdOqx4E59",
        "colab_type": "code",
        "outputId": "235d9030-25ba-470e-f127-8585d6512ae9",
        "colab": {
          "base_uri": "https://localhost:8080/",
          "height": 68
        }
      },
      "cell_type": "code",
      "source": [
        "#import the dataset\n",
        "\n",
        "from keras.datasets import imdb\n",
        "\n",
        "(train_data, train_labels), (test_data, test_labels) = imdb.load_data(\n",
        "    num_words=10000)"
      ],
      "execution_count": 1,
      "outputs": [
        {
          "output_type": "stream",
          "text": [
            "Using TensorFlow backend.\n"
          ],
          "name": "stderr"
        },
        {
          "output_type": "stream",
          "text": [
            "Downloading data from https://s3.amazonaws.com/text-datasets/imdb.npz\n",
            "17465344/17464789 [==============================] - 0s 0us/step\n"
          ],
          "name": "stdout"
        }
      ]
    },
    {
      "metadata": {
        "id": "XGaw0Yi34kk2",
        "colab_type": "code",
        "colab": {}
      },
      "cell_type": "code",
      "source": [
        "# Encoding the integer sequences into a binary matrix\n",
        "import numpy as np\n",
        "\n",
        "def vectorize_sequences(sequences, dimension=10000):\n",
        "    results = np.zeros((len(sequences), dimension))\n",
        "    for i, sequence in enumerate(sequences):\n",
        "        results[i, sequence] = 1.\n",
        "    return results\n",
        "\n",
        "x_train = vectorize_sequences(train_data)\n",
        "x_test = vectorize_sequences(test_data)\n",
        "\n",
        "# Vectorize the labels\n",
        "y_train = np.asarray(train_labels).astype('float32')\n",
        "y_test = np.asarray(test_labels).astype('float32')\n"
      ],
      "execution_count": 0,
      "outputs": []
    },
    {
      "metadata": {
        "id": "7c64lL9Z6IcB",
        "colab_type": "code",
        "colab": {}
      },
      "cell_type": "code",
      "source": [
        "from keras import models\n",
        "from keras import layers\n",
        "\n",
        "# Define the structure of the model \n",
        "model = models.Sequential()\n",
        "model.add(layers.Dense(64, activation='relu', input_shape=(10000,)))\n",
        "model.add(layers.Dense(64, activation='relu'))\n",
        "model.add(layers.Dense(32, activation='relu'))\n",
        "model.add(layers.Dense(16, activation='relu'))\n",
        "model.add(layers.Dense(1, activation='sigmoid'))\n",
        "# use sigmoid for the last layer as we need a binary output."
      ],
      "execution_count": 0,
      "outputs": []
    },
    {
      "metadata": {
        "id": "QT-Pq9XQ6MLO",
        "colab_type": "code",
        "colab": {}
      },
      "cell_type": "code",
      "source": [
        "# Compile the model, configure the optimizer\n",
        "model.compile(optimizer='rmsprop',\n",
        "              loss='binary_crossentropy',\n",
        "              metrics=['accuracy'])"
      ],
      "execution_count": 0,
      "outputs": []
    },
    {
      "metadata": {
        "id": "zOI6NlXf7VSw",
        "colab_type": "code",
        "colab": {}
      },
      "cell_type": "code",
      "source": [
        "# Split the training set for hyperparameter tuning. \n",
        "# Here we try to tune the ideal number of epochs to get the best result\n",
        "x_val = x_train[:10000]\n",
        "partial_x_train = x_train[10000:]\n",
        "y_val = y_train[:10000]\n",
        "partial_y_train = y_train[10000:]"
      ],
      "execution_count": 0,
      "outputs": []
    },
    {
      "metadata": {
        "id": "vdBVsV5H7ajJ",
        "colab_type": "code",
        "outputId": "85d867eb-93c5-4a68-8fd7-e3b07a1b1a07",
        "colab": {
          "base_uri": "https://localhost:8080/",
          "height": 714
        }
      },
      "cell_type": "code",
      "source": [
        "# Training Phase. Record the accuracy and error/loss for tuning later on\n",
        "history = model.fit(partial_x_train,\n",
        "                    partial_y_train,\n",
        "                    epochs=20,\n",
        "                    batch_size=512,\n",
        "                    validation_data=(x_val, y_val))"
      ],
      "execution_count": 18,
      "outputs": [
        {
          "output_type": "stream",
          "text": [
            "Train on 15000 samples, validate on 10000 samples\n",
            "Epoch 1/20\n",
            "15000/15000 [==============================] - 3s 213us/step - loss: 0.5057 - acc: 0.7433 - val_loss: 0.3434 - val_acc: 0.8641\n",
            "Epoch 2/20\n",
            "15000/15000 [==============================] - 3s 185us/step - loss: 0.2661 - acc: 0.8974 - val_loss: 0.2927 - val_acc: 0.8832\n",
            "Epoch 3/20\n",
            "15000/15000 [==============================] - 3s 182us/step - loss: 0.1967 - acc: 0.9271 - val_loss: 0.2778 - val_acc: 0.8906\n",
            "Epoch 4/20\n",
            "15000/15000 [==============================] - 3s 181us/step - loss: 0.1313 - acc: 0.9534 - val_loss: 0.3360 - val_acc: 0.8752\n",
            "Epoch 5/20\n",
            "15000/15000 [==============================] - 3s 181us/step - loss: 0.1062 - acc: 0.9617 - val_loss: 0.4452 - val_acc: 0.8520\n",
            "Epoch 6/20\n",
            "15000/15000 [==============================] - 3s 182us/step - loss: 0.0852 - acc: 0.9730 - val_loss: 0.3687 - val_acc: 0.8796\n",
            "Epoch 7/20\n",
            "15000/15000 [==============================] - 3s 183us/step - loss: 0.0773 - acc: 0.9797 - val_loss: 0.3770 - val_acc: 0.8775\n",
            "Epoch 8/20\n",
            "15000/15000 [==============================] - 3s 183us/step - loss: 0.0173 - acc: 0.9969 - val_loss: 0.4862 - val_acc: 0.8778\n",
            "Epoch 9/20\n",
            "15000/15000 [==============================] - 3s 183us/step - loss: 0.0701 - acc: 0.9827 - val_loss: 0.4831 - val_acc: 0.8752\n",
            "Epoch 10/20\n",
            "15000/15000 [==============================] - 3s 183us/step - loss: 0.0057 - acc: 0.9992 - val_loss: 0.5814 - val_acc: 0.8748\n",
            "Epoch 11/20\n",
            "15000/15000 [==============================] - 3s 182us/step - loss: 0.0904 - acc: 0.9828 - val_loss: 0.5728 - val_acc: 0.8753\n",
            "Epoch 12/20\n",
            "15000/15000 [==============================] - 3s 183us/step - loss: 0.0023 - acc: 0.9998 - val_loss: 0.6266 - val_acc: 0.8762\n",
            "Epoch 13/20\n",
            "15000/15000 [==============================] - 3s 183us/step - loss: 0.0012 - acc: 0.9999 - val_loss: 0.7214 - val_acc: 0.8755\n",
            "Epoch 14/20\n",
            "15000/15000 [==============================] - 3s 182us/step - loss: 5.6192e-04 - acc: 0.9999 - val_loss: 0.8427 - val_acc: 0.8758\n",
            "Epoch 15/20\n",
            "15000/15000 [==============================] - 3s 182us/step - loss: 0.0947 - acc: 0.9868 - val_loss: 0.8095 - val_acc: 0.8711\n",
            "Epoch 16/20\n",
            "15000/15000 [==============================] - 3s 184us/step - loss: 2.7382e-04 - acc: 1.0000 - val_loss: 0.8425 - val_acc: 0.8718\n",
            "Epoch 17/20\n",
            "15000/15000 [==============================] - 3s 184us/step - loss: 1.4896e-04 - acc: 1.0000 - val_loss: 0.8955 - val_acc: 0.8735\n",
            "Epoch 18/20\n",
            "15000/15000 [==============================] - 3s 183us/step - loss: 7.4091e-05 - acc: 1.0000 - val_loss: 0.9649 - val_acc: 0.8730\n",
            "Epoch 19/20\n",
            "15000/15000 [==============================] - 3s 183us/step - loss: 2.8244e-05 - acc: 1.0000 - val_loss: 1.0570 - val_acc: 0.8730\n",
            "Epoch 20/20\n",
            "15000/15000 [==============================] - 3s 183us/step - loss: 7.2910e-06 - acc: 1.0000 - val_loss: 1.1389 - val_acc: 0.8736\n"
          ],
          "name": "stdout"
        }
      ]
    },
    {
      "metadata": {
        "id": "JMpf6BfM7cG5",
        "colab_type": "code",
        "outputId": "75a39106-7b21-4b8d-ba30-8abbaead268f",
        "colab": {
          "base_uri": "https://localhost:8080/",
          "height": 34
        }
      },
      "cell_type": "code",
      "source": [
        "# get the loss and accuracy from history\n",
        "history_dict = history.history\n",
        "history_dict.keys()"
      ],
      "execution_count": 19,
      "outputs": [
        {
          "output_type": "execute_result",
          "data": {
            "text/plain": [
              "dict_keys(['val_loss', 'val_acc', 'loss', 'acc'])"
            ]
          },
          "metadata": {
            "tags": []
          },
          "execution_count": 19
        }
      ]
    },
    {
      "metadata": {
        "id": "-wSRpOfe7pJZ",
        "colab_type": "code",
        "outputId": "47c72509-48f3-4d80-fb46-682d462a1797",
        "colab": {
          "base_uri": "https://localhost:8080/",
          "height": 376
        }
      },
      "cell_type": "code",
      "source": [
        "# Plotting the training and validation loss for tuning the number of epochs\n",
        "import matplotlib.pyplot as plt\n",
        "\n",
        "history_dict = history.history\n",
        "loss_values = history_dict['loss']\n",
        "val_loss_values = history_dict['val_loss']\n",
        "acc = history_dict['acc']\n",
        "\n",
        "epochs = range(1, len(acc) + 1)\n",
        "\n",
        "plt.plot(epochs, loss_values, 'bo', label='Training loss')\n",
        "plt.plot(epochs, val_loss_values, 'b', label='Validation loss')\n",
        "plt.title('Training and validation loss')\n",
        "plt.xlabel('Epochs')\n",
        "plt.ylabel('Loss')\n",
        "plt.legend()\n",
        "\n",
        "plt.show()\n"
      ],
      "execution_count": 20,
      "outputs": [
        {
          "output_type": "display_data",
          "data": {
            "image/png": "[encoded data removed]",
            "text/plain": [
              "<Figure size 576x396 with 1 Axes>"
            ]
          },
          "metadata": {
            "tags": []
          }
        }
      ]
    },
    {
      "metadata": {
        "id": "TSuLs3OX704x",
        "colab_type": "code",
        "outputId": "60acd7f3-cc9c-4e01-938b-dc302016ee12",
        "colab": {
          "base_uri": "https://localhost:8080/",
          "height": 376
        }
      },
      "cell_type": "code",
      "source": [
        "# Plotting the accuracy curves\n",
        "plt.clf()\n",
        "acc_values = history_dict['acc']\n",
        "val_acc = history_dict['val_acc']\n",
        "\n",
        "plt.plot(epochs, acc, 'bo', label='Training acc')\n",
        "plt.plot(epochs, val_acc, 'b', label='Validation acc')\n",
        "plt.title('Training and validation accuracy')\n",
        "plt.xlabel('Epochs')\n",
        "plt.ylabel('Loss')\n",
        "plt.legend()\n",
        "\n",
        "plt.show()\n"
      ],
      "execution_count": 21,
      "outputs": [
        {
          "output_type": "display_data",
          "data": {
            "image/png": "[encoded data removed]",
            "text/plain": [
              "<Figure size 576x396 with 1 Axes>"
            ]
          },
          "metadata": {
            "tags": []
          }
        }
      ]
    },
    {
      "metadata": {
        "id": "w33_PPRg8MNC",
        "colab_type": "code",
        "outputId": "9302c49c-949e-4eb7-9e52-9dd617de8ba7",
        "colab": {
          "base_uri": "https://localhost:8080/",
          "height": 136
        }
      },
      "cell_type": "code",
      "source": [
        "# The ideal number of epochs looks to be 3. So retrain the model using all the\n",
        "# training examples (all of 25k)\n",
        "model = models.Sequential()\n",
        "model.add(layers.Dense(64, activation='relu', input_shape=(10000,)))\n",
        "model.add(layers.Dense(64, activation='relu'))\n",
        "model.add(layers.Dense(32, activation='relu'))\n",
        "model.add(layers.Dense(16, activation='relu'))\n",
        "model.add(layers.Dense(1, activation='sigmoid'))\n",
        "\n",
        "model.compile(optimizer='rmsprop',\n",
        "              loss='binary_crossentropy',\n",
        "              metrics=['accuracy'])\n",
        "\n",
        "model.fit(x_train, y_train, epochs=3, batch_size=512)\n",
        "results = model.evaluate(x_test, y_test)"
      ],
      "execution_count": 23,
      "outputs": [
        {
          "output_type": "stream",
          "text": [
            "Epoch 1/3\n",
            "25000/25000 [==============================] - 4s 152us/step - loss: 0.4537 - acc: 0.8012\n",
            "Epoch 2/3\n",
            "25000/25000 [==============================] - 3s 135us/step - loss: 0.2511 - acc: 0.9034\n",
            "Epoch 3/3\n",
            "25000/25000 [==============================] - 3s 135us/step - loss: 0.1852 - acc: 0.9308\n",
            "25000/25000 [==============================] - 3s 111us/step\n"
          ],
          "name": "stdout"
        }
      ]
    },
    {
      "metadata": {
        "id": "GuLqu7UL8Uwy",
        "colab_type": "code",
        "outputId": "922da04a-750e-460e-ae05-e81d7f295ff5",
        "colab": {
          "base_uri": "https://localhost:8080/",
          "height": 34
        }
      },
      "cell_type": "code",
      "source": [
        "# check the final accuracy and loss\n",
        "results"
      ],
      "execution_count": 24,
      "outputs": [
        {
          "output_type": "execute_result",
          "data": {
            "text/plain": [
              "[0.31047196615219114, 0.87928]"
            ]
          },
          "metadata": {
            "tags": []
          },
          "execution_count": 24
        }
      ]
    },
    {
      "metadata": {
        "id": "EJHuJ58K8Y0R",
        "colab_type": "code",
        "outputId": "a2356507-7f1d-4ebc-e1a6-0e3f27f30130",
        "colab": {
          "base_uri": "https://localhost:8080/",
          "height": 85
        }
      },
      "cell_type": "code",
      "source": [
        "# make prediction on unseen data now - test data\n",
        "predictions = model.predict(x_test)\n",
        "predictions = predictions >= 0.5\n",
        "# change the datatype to float from bool\n",
        "predictions = np.asarray(predictions).astype('float32')\n",
        "# convert it to array\n",
        "predictions = np.reshape(predictions, -1)\n",
        "# size of test\n",
        "print(len(y_test))\n",
        "# size of prediction - should be equal to test \n",
        "print(len(predictions))\n",
        "correct_predictions = np.sum(y_test == predictions)\n",
        "print(correct_predictions)\n",
        "print(float(correct_predictions) / len(y_test))"
      ],
      "execution_count": 25,
      "outputs": [
        {
          "output_type": "stream",
          "text": [
            "25000\n",
            "25000\n",
            "21982\n",
            "0.87928\n"
          ],
          "name": "stdout"
        }
      ]
    },
    {
      "metadata": {
        "id": "2yyJkpyO8cfz",
        "colab_type": "code",
        "outputId": "58ea4c46-851d-45c6-da58-05e023197e96",
        "colab": {
          "base_uri": "https://localhost:8080/",
          "height": 51
        }
      },
      "cell_type": "code",
      "source": [
        "model.evaluate(x_test, y_test)"
      ],
      "execution_count": 26,
      "outputs": [
        {
          "output_type": "stream",
          "text": [
            "25000/25000 [==============================] - 3s 110us/step\n"
          ],
          "name": "stdout"
        },
        {
          "output_type": "execute_result",
          "data": {
            "text/plain": [
              "[0.31047196615219114, 0.87928]"
            ]
          },
          "metadata": {
            "tags": []
          },
          "execution_count": 26
        }
      ]
    },
    {
      "metadata": {
        "id": "QghVidCzEb8t",
        "colab_type": "code",
        "colab": {}
      },
      "cell_type": "code",
      "source": [
        ""
      ],
      "execution_count": 0,
      "outputs": []
    }
  ]
}