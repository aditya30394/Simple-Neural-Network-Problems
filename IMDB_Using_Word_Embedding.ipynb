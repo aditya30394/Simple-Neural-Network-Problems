{
  "nbformat": 4,
  "nbformat_minor": 0,
  "metadata": {
    "colab": {
      "name": "IMDB_Using_Word_Embedding.ipynb",
      "version": "0.3.2",
      "provenance": [],
      "collapsed_sections": []
    },
    "kernelspec": {
      "name": "python3",
      "display_name": "Python 3"
    },
    "accelerator": "TPU"
  },
  "cells": [
    {
      "metadata": {
        "id": "mCYiva1OqdTg",
        "colab_type": "code",
        "colab": {}
      },
      "cell_type": "code",
      "source": [
        "# Loading the IMDB data for use with an Embedding layer\n",
        "\n",
        "from keras.datasets import imdb\n",
        "from keras import preprocessing\n",
        "\n",
        "max_features = 10000\n",
        "maxlen = 50\n",
        "\n",
        "(x_train, y_train), (x_test, y_test) = imdb.load_data(\n",
        "    num_words=max_features)\n",
        "\n",
        "x_train = preprocessing.sequence.pad_sequences(x_train, maxlen=maxlen)\n",
        "x_test = preprocessing.sequence.pad_sequences(x_test, maxlen=maxlen)"
      ],
      "execution_count": 0,
      "outputs": []
    },
    {
      "metadata": {
        "id": "PYrP34jqsE0s",
        "colab_type": "code",
        "colab": {
          "base_uri": "https://localhost:8080/",
          "height": 595
        },
        "outputId": "cc5cb106-498b-4e3e-98b1-a9027a8d5074"
      },
      "cell_type": "code",
      "source": [
        "# Using an Embedding layer and classifier on the IMDB data\n",
        "\n",
        "from keras.models import Sequential\n",
        "from keras.layers import Flatten, Dense, Embedding\n",
        "\n",
        "model = Sequential()\n",
        "model.add(Embedding(10000, 8, input_length=maxlen))\n",
        "\n",
        "model.add(Flatten())\n",
        "\n",
        "model.add(Dense(1, activation='sigmoid'))\n",
        "model.compile(optimizer='rmsprop', loss='binary_crossentropy', metrics=['acc'])\n",
        "model.summary()\n",
        "\n",
        "history = model.fit(x_train, y_train,\n",
        "                    epochs=10,\n",
        "                    batch_size=32,\n",
        "                    validation_split=0.2)"
      ],
      "execution_count": 9,
      "outputs": [
        {
          "output_type": "stream",
          "text": [
            "_________________________________________________________________\n",
            "Layer (type)                 Output Shape              Param #   \n",
            "=================================================================\n",
            "embedding_2 (Embedding)      (None, 50, 8)             80000     \n",
            "_________________________________________________________________\n",
            "flatten_2 (Flatten)          (None, 400)               0         \n",
            "_________________________________________________________________\n",
            "dense_2 (Dense)              (None, 1)                 401       \n",
            "=================================================================\n",
            "Total params: 80,401\n",
            "Trainable params: 80,401\n",
            "Non-trainable params: 0\n",
            "_________________________________________________________________\n",
            "Train on 20000 samples, validate on 5000 samples\n",
            "Epoch 1/10\n",
            "20000/20000 [==============================] - 2s 84us/step - loss: 0.6484 - acc: 0.6508 - val_loss: 0.5447 - val_acc: 0.7602\n",
            "Epoch 2/10\n",
            "20000/20000 [==============================] - 1s 71us/step - loss: 0.4490 - acc: 0.8059 - val_loss: 0.4282 - val_acc: 0.7992\n",
            "Epoch 3/10\n",
            "20000/20000 [==============================] - 1s 70us/step - loss: 0.3645 - acc: 0.8416 - val_loss: 0.4026 - val_acc: 0.8086\n",
            "Epoch 4/10\n",
            "20000/20000 [==============================] - 1s 69us/step - loss: 0.3277 - acc: 0.8588 - val_loss: 0.3973 - val_acc: 0.8164\n",
            "Epoch 5/10\n",
            "20000/20000 [==============================] - 1s 71us/step - loss: 0.3031 - acc: 0.8720 - val_loss: 0.3973 - val_acc: 0.8166\n",
            "Epoch 6/10\n",
            "20000/20000 [==============================] - 1s 70us/step - loss: 0.2833 - acc: 0.8833 - val_loss: 0.4014 - val_acc: 0.8186\n",
            "Epoch 7/10\n",
            "20000/20000 [==============================] - 1s 70us/step - loss: 0.2657 - acc: 0.8912 - val_loss: 0.4054 - val_acc: 0.8190\n",
            "Epoch 8/10\n",
            "20000/20000 [==============================] - 1s 70us/step - loss: 0.2486 - acc: 0.8996 - val_loss: 0.4109 - val_acc: 0.8174\n",
            "Epoch 9/10\n",
            "20000/20000 [==============================] - 1s 69us/step - loss: 0.2316 - acc: 0.9081 - val_loss: 0.4177 - val_acc: 0.8142\n",
            "Epoch 10/10\n",
            "20000/20000 [==============================] - 1s 69us/step - loss: 0.2143 - acc: 0.9168 - val_loss: 0.4268 - val_acc: 0.8108\n"
          ],
          "name": "stdout"
        }
      ]
    },
    {
      "metadata": {
        "id": "meCVBeGDsc-9",
        "colab_type": "code",
        "colab": {
          "base_uri": "https://localhost:8080/",
          "height": 707
        },
        "outputId": "a6c56b07-1936-486e-f645-652c1a083e02"
      },
      "cell_type": "code",
      "source": [
        "# Plotting the results\n",
        "import matplotlib.pyplot as plt\n",
        "\n",
        "acc = history.history['acc']\n",
        "val_acc = history.history['val_acc']\n",
        "loss = history.history['loss']\n",
        "val_loss = history.history['val_loss']\n",
        "\n",
        "epochs = range(1, len(acc) + 1)\n",
        "\n",
        "plt.plot(epochs, acc, 'bo', label='Training acc')\n",
        "plt.plot(epochs, val_acc, 'b', label='Validation acc')\n",
        "plt.title('Training and validation accuracy')\n",
        "plt.legend()\n",
        "\n",
        "plt.figure()\n",
        "\n",
        "plt.plot(epochs, loss, 'bo', label='Training loss')\n",
        "plt.plot(epochs, val_loss, 'b', label='Validation loss')\n",
        "plt.title('Training and validation loss')\n",
        "plt.legend()\n",
        "\n",
        "plt.show()"
      ],
      "execution_count": 10,
      "outputs": [
        {
          "output_type": "display_data",
          "data": {
            "image/png": "[encoded data removed]",
            "text/plain": [
              "<Figure size 576x396 with 1 Axes>"
            ]
          },
          "metadata": {
            "tags": []
          }
        },
        {
          "output_type": "display_data",
          "data": {
            "image/png": "[encoded data removed]",
            "text/plain": [
              "<Figure size 576x396 with 1 Axes>"
            ]
          },
          "metadata": {
            "tags": []
          }
        }
      ]
    },
    {
      "metadata": {
        "id": "PCjarrFjse6f",
        "colab_type": "code",
        "colab": {
          "base_uri": "https://localhost:8080/",
          "height": 34
        },
        "outputId": "13312419-761a-4920-cc67-4d4003e87912"
      },
      "cell_type": "code",
      "source": [
        "# Perform on Test\n",
        "results = model.evaluate(x_test, y_test)"
      ],
      "execution_count": 11,
      "outputs": [
        {
          "output_type": "stream",
          "text": [
            "25000/25000 [==============================] - 0s 18us/step\n"
          ],
          "name": "stdout"
        }
      ]
    },
    {
      "metadata": {
        "id": "dCdg4Awass-v",
        "colab_type": "code",
        "colab": {
          "base_uri": "https://localhost:8080/",
          "height": 34
        },
        "outputId": "8ec456c6-03d2-4b67-dc28-8fbaed0dc416"
      },
      "cell_type": "code",
      "source": [
        "print(results)"
      ],
      "execution_count": 12,
      "outputs": [
        {
          "output_type": "stream",
          "text": [
            "[0.4274352575111389, 0.81732]\n"
          ],
          "name": "stdout"
        }
      ]
    },
    {
      "metadata": {
        "id": "dM4-NhrctCbX",
        "colab_type": "code",
        "colab": {}
      },
      "cell_type": "code",
      "source": [
        ""
      ],
      "execution_count": 0,
      "outputs": []
    }
  ]
}