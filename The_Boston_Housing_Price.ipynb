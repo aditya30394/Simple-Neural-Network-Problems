{
  "nbformat": 4,
  "nbformat_minor": 0,
  "metadata": {
    "colab": {
      "name": "The Boston Housing Price.ipynb",
      "version": "0.3.2",
      "provenance": [],
      "collapsed_sections": []
    },
    "kernelspec": {
      "name": "python3",
      "display_name": "Python 3"
    }
  },
  "cells": [
    {
      "metadata": {
        "id": "5q-f8vrBMlKw",
        "colab_type": "code",
        "outputId": "c26ebd17-93bc-4436-d47d-26e53dfba065",
        "colab": {
          "base_uri": "https://localhost:8080/",
          "height": 51
        }
      },
      "cell_type": "code",
      "source": [
        "# import the dataset\n",
        "\n",
        "from keras.datasets import boston_housing\n",
        "\n",
        "(train_data, train_targets), (test_data, test_targets) = boston_housing.load_data()"
      ],
      "execution_count": 2,
      "outputs": [
        {
          "output_type": "stream",
          "text": [
            "Downloading data from https://s3.amazonaws.com/keras-datasets/boston_housing.npz\n",
            "57344/57026 [==============================] - 0s 1us/step\n"
          ],
          "name": "stdout"
        }
      ]
    },
    {
      "metadata": {
        "id": "UChMsKVkMtxa",
        "colab_type": "code",
        "colab": {}
      },
      "cell_type": "code",
      "source": [
        "# Normalizing the data\n",
        "mean = train_data.mean(axis=0)\n",
        "train_data -= mean\n",
        "std = train_data.std(axis=0)\n",
        "train_data /= std\n",
        "\n",
        "test_data -= mean\n",
        "test_data /= std"
      ],
      "execution_count": 0,
      "outputs": []
    },
    {
      "metadata": {
        "id": "LmV3QzowMz5T",
        "colab_type": "code",
        "colab": {}
      },
      "cell_type": "code",
      "source": [
        "from keras import models\n",
        "from keras import layers\n",
        "\n",
        "# Define the structure of the model\n",
        "\n",
        "def build_model():\n",
        "    model = models.Sequential()\n",
        "    model.add(layers.Dense(128, activation='relu',\n",
        "                           input_shape=(train_data.shape[1],)))\n",
        "    model.add(layers.Dense(64, activation='relu'))\n",
        "    model.add(layers.Dense(64, activation='relu'))\n",
        "    model.add(layers.Dense(1))\n",
        "    # mean square error is our loss and mean absolute error is our metric\n",
        "    # Compile the model, configure the optimizer\n",
        "    model.compile(optimizer='rmsprop', loss='mse', metrics=['mae'])\n",
        "    return model\n"
      ],
      "execution_count": 0,
      "outputs": []
    },
    {
      "metadata": {
        "id": "af9z4-9MM2EF",
        "colab_type": "code",
        "outputId": "30326b33-32db-4260-e031-20abf392293a",
        "colab": {
          "base_uri": "https://localhost:8080/",
          "height": 187
        }
      },
      "cell_type": "code",
      "source": [
        "import numpy as np\n",
        "\n",
        "# K-fold validation\n",
        "\n",
        "k = 4\n",
        "num_val_samples = len(train_data) // k\n",
        "num_epochs = 100\n",
        "all_scores = []\n",
        "for i in range(k):\n",
        "    print('processing fold #', i)\n",
        "    val_data = train_data[i * num_val_samples: (i + 1) * num_val_samples]\n",
        "    val_targets = train_targets[i * num_val_samples: (i + 1) * num_val_samples]\n",
        "\n",
        "    partial_train_data = np.concatenate(\n",
        "        [train_data[:i * num_val_samples],\n",
        "         train_data[(i + 1) * num_val_samples:]],\n",
        "        axis=0)\n",
        "    partial_train_targets = np.concatenate(\n",
        "        [train_targets[:i * num_val_samples],\n",
        "         train_targets[(i + 1) * num_val_samples:]],\n",
        "        axis=0)\n",
        "\n",
        "    model = build_model()\n",
        "    model.fit(partial_train_data, partial_train_targets,\n",
        "              epochs=num_epochs, batch_size=1, verbose=0)\n",
        "    val_mse, val_mae = model.evaluate(val_data, val_targets, verbose=0)\n",
        "    all_scores.append(val_mae)\n"
      ],
      "execution_count": 7,
      "outputs": [
        {
          "output_type": "stream",
          "text": [
            "processing fold # 0\n",
            "WARNING:tensorflow:From /usr/local/lib/python3.6/dist-packages/tensorflow/python/framework/op_def_library.py:263: colocate_with (from tensorflow.python.framework.ops) is deprecated and will be removed in a future version.\n",
            "Instructions for updating:\n",
            "Colocations handled automatically by placer.\n",
            "WARNING:tensorflow:From /usr/local/lib/python3.6/dist-packages/tensorflow/python/ops/math_ops.py:3066: to_int32 (from tensorflow.python.ops.math_ops) is deprecated and will be removed in a future version.\n",
            "Instructions for updating:\n",
            "Use tf.cast instead.\n",
            "processing fold # 1\n",
            "processing fold # 2\n",
            "processing fold # 3\n"
          ],
          "name": "stdout"
        }
      ]
    },
    {
      "metadata": {
        "id": "9e-6WKeIM6AV",
        "colab_type": "code",
        "outputId": "c82095ed-994d-4e7a-86bd-cf6600bc309c",
        "colab": {
          "base_uri": "https://localhost:8080/",
          "height": 34
        }
      },
      "cell_type": "code",
      "source": [
        "# mean average errors on validation set across all the 100 epochs\n",
        "all_scores"
      ],
      "execution_count": 8,
      "outputs": [
        {
          "output_type": "execute_result",
          "data": {
            "text/plain": [
              "[1.9147737521936399, 2.225191602612486, 2.435041609376964, 2.593382201572456]"
            ]
          },
          "metadata": {
            "tags": []
          },
          "execution_count": 8
        }
      ]
    },
    {
      "metadata": {
        "id": "lpLdGI9uNU-f",
        "colab_type": "code",
        "outputId": "26034b8d-cdb5-44a3-f032-d5012bac4b80",
        "colab": {
          "base_uri": "https://localhost:8080/",
          "height": 34
        }
      },
      "cell_type": "code",
      "source": [
        "# mean \n",
        "np.mean(all_scores)"
      ],
      "execution_count": 9,
      "outputs": [
        {
          "output_type": "execute_result",
          "data": {
            "text/plain": [
              "2.2920972914388864"
            ]
          },
          "metadata": {
            "tags": []
          },
          "execution_count": 9
        }
      ]
    },
    {
      "metadata": {
        "id": "2j7vHsliNXe9",
        "colab_type": "code",
        "outputId": "3b3b50de-48ed-4a03-9cbd-4301c5975707",
        "colab": {
          "base_uri": "https://localhost:8080/",
          "height": 85
        }
      },
      "cell_type": "code",
      "source": [
        "# Saving the validation logs at each fold\n",
        "num_epochs = 500\n",
        "all_mae_histories = []\n",
        "for i in range(k):\n",
        "    print('processing fold #', i)\n",
        "    val_data = train_data[i * num_val_samples: (i + 1) * num_val_samples]\n",
        "    val_targets = train_targets[i * num_val_samples: (i + 1) * num_val_samples]\n",
        "    partial_train_data = np.concatenate(\n",
        "        [train_data[:i * num_val_samples],\n",
        "         train_data[(i + 1) * num_val_samples:]],\n",
        "        axis=0)\n",
        "    partial_train_targets = np.concatenate(\n",
        "        [train_targets[:i * num_val_samples],\n",
        "         train_targets[(i + 1) * num_val_samples:]],\n",
        "        axis=0)\n",
        "\n",
        "    model = build_model()\n",
        "    history = model.fit(partial_train_data, partial_train_targets,\n",
        "                        validation_data=(val_data, val_targets),\n",
        "                        epochs=num_epochs, batch_size=1, verbose=0)\n",
        "    mae_history = history.history['val_mean_absolute_error']\n",
        "    all_mae_histories.append(mae_history)\n",
        "    "
      ],
      "execution_count": 10,
      "outputs": [
        {
          "output_type": "stream",
          "text": [
            "processing fold # 0\n",
            "processing fold # 1\n",
            "processing fold # 2\n",
            "processing fold # 3\n"
          ],
          "name": "stdout"
        }
      ]
    },
    {
      "metadata": {
        "id": "HxCTinFzN8Yt",
        "colab_type": "code",
        "colab": {}
      },
      "cell_type": "code",
      "source": [
        "# compute the average of the per-epoch MAE scores for all folds\n",
        "average_mae_history = [\n",
        "    np.mean([x[i] for x in all_mae_histories]) for i in range(num_epochs)]"
      ],
      "execution_count": 0,
      "outputs": []
    },
    {
      "metadata": {
        "id": "6j1r73WsN_TC",
        "colab_type": "code",
        "outputId": "1bb8e771-7d68-471f-d477-5ddc5f16d28e",
        "colab": {
          "base_uri": "https://localhost:8080/",
          "height": 361
        }
      },
      "cell_type": "code",
      "source": [
        "import matplotlib.pyplot as plt\n",
        "\n",
        "# Plotting Validation MAE by epoch, excluding the first 10 data points (using the moving average)\n",
        "\n",
        "def smooth_curve(points, factor=0.9):\n",
        "  smoothed_points = []\n",
        "  for point in points:\n",
        "    if smoothed_points:\n",
        "      previous = smoothed_points[-1]\n",
        "      smoothed_points.append(previous * factor + point * (1 - factor))\n",
        "    else:\n",
        "      smoothed_points.append(point)\n",
        "  return smoothed_points\n",
        "\n",
        "smooth_mae_history = smooth_curve(average_mae_history[10:])\n",
        "\n",
        "plt.plot(range(1, len(smooth_mae_history) + 1), smooth_mae_history)\n",
        "plt.xlabel('Epochs')\n",
        "plt.ylabel('Validation MAE')\n",
        "plt.show()"
      ],
      "execution_count": 12,
      "outputs": [
        {
          "output_type": "display_data",
          "data": {
            "image/png": "[encoded data removed]",
            "text/plain": [
              "<Figure size 576x396 with 1 Axes>"
            ]
          },
          "metadata": {
            "tags": []
          }
        }
      ]
    },
    {
      "metadata": {
        "id": "8AUfhkcaOGCI",
        "colab_type": "code",
        "outputId": "ba51f8e4-f8dd-4ad9-baa0-b8a7ed35b147",
        "colab": {
          "base_uri": "https://localhost:8080/",
          "height": 2754
        }
      },
      "cell_type": "code",
      "source": [
        "# According the the graph (Figure 5), validation MAE stops improving significantly after 80 epochs.\n",
        "# so lets train the model for 80 epochs\n",
        "model = build_model()\n",
        "\n",
        "# Training the final model\n",
        "model.fit(train_data, train_targets,\n",
        "          epochs=80, batch_size=16, verbose=1)\n",
        "test_mse_score, test_mae_score = model.evaluate(test_data, test_targets)\n"
      ],
      "execution_count": 19,
      "outputs": [
        {
          "output_type": "stream",
          "text": [
            "Epoch 1/80\n",
            "404/404 [==============================] - 1s 2ms/step - loss: 427.1406 - mean_absolute_error: 18.5304\n",
            "Epoch 2/80\n",
            "404/404 [==============================] - 0s 90us/step - loss: 89.3667 - mean_absolute_error: 7.2182\n",
            "Epoch 3/80\n",
            "404/404 [==============================] - 0s 89us/step - loss: 36.8041 - mean_absolute_error: 4.2806\n",
            "Epoch 4/80\n",
            "404/404 [==============================] - 0s 90us/step - loss: 24.7105 - mean_absolute_error: 3.4938\n",
            "Epoch 5/80\n",
            "404/404 [==============================] - 0s 87us/step - loss: 19.7016 - mean_absolute_error: 3.1427\n",
            "Epoch 6/80\n",
            "404/404 [==============================] - 0s 92us/step - loss: 16.6743 - mean_absolute_error: 2.9029\n",
            "Epoch 7/80\n",
            "404/404 [==============================] - 0s 90us/step - loss: 14.3794 - mean_absolute_error: 2.7249\n",
            "Epoch 8/80\n",
            "404/404 [==============================] - 0s 86us/step - loss: 13.2157 - mean_absolute_error: 2.5779\n",
            "Epoch 9/80\n",
            "404/404 [==============================] - 0s 89us/step - loss: 12.1969 - mean_absolute_error: 2.4982\n",
            "Epoch 10/80\n",
            "404/404 [==============================] - 0s 86us/step - loss: 11.1824 - mean_absolute_error: 2.4057\n",
            "Epoch 11/80\n",
            "404/404 [==============================] - 0s 97us/step - loss: 10.8867 - mean_absolute_error: 2.3828\n",
            "Epoch 12/80\n",
            "404/404 [==============================] - 0s 89us/step - loss: 10.3767 - mean_absolute_error: 2.3702\n",
            "Epoch 13/80\n",
            "404/404 [==============================] - 0s 89us/step - loss: 10.6844 - mean_absolute_error: 2.3697\n",
            "Epoch 14/80\n",
            "404/404 [==============================] - 0s 90us/step - loss: 9.8214 - mean_absolute_error: 2.2488\n",
            "Epoch 15/80\n",
            "404/404 [==============================] - 0s 109us/step - loss: 9.7516 - mean_absolute_error: 2.2421\n",
            "Epoch 16/80\n",
            "404/404 [==============================] - 0s 101us/step - loss: 9.1675 - mean_absolute_error: 2.1788\n",
            "Epoch 17/80\n",
            "404/404 [==============================] - 0s 101us/step - loss: 8.8694 - mean_absolute_error: 2.1170\n",
            "Epoch 18/80\n",
            "404/404 [==============================] - 0s 102us/step - loss: 8.6274 - mean_absolute_error: 2.1221\n",
            "Epoch 19/80\n",
            "404/404 [==============================] - 0s 97us/step - loss: 8.9496 - mean_absolute_error: 2.1783\n",
            "Epoch 20/80\n",
            "404/404 [==============================] - 0s 101us/step - loss: 8.3122 - mean_absolute_error: 2.0892\n",
            "Epoch 21/80\n",
            "404/404 [==============================] - 0s 106us/step - loss: 8.6702 - mean_absolute_error: 2.1195\n",
            "Epoch 22/80\n",
            "404/404 [==============================] - 0s 101us/step - loss: 8.3468 - mean_absolute_error: 2.0613\n",
            "Epoch 23/80\n",
            "404/404 [==============================] - 0s 107us/step - loss: 8.0442 - mean_absolute_error: 2.0730\n",
            "Epoch 24/80\n",
            "404/404 [==============================] - 0s 110us/step - loss: 7.9205 - mean_absolute_error: 2.0387\n",
            "Epoch 25/80\n",
            "404/404 [==============================] - 0s 94us/step - loss: 7.8196 - mean_absolute_error: 2.0205\n",
            "Epoch 26/80\n",
            "404/404 [==============================] - 0s 86us/step - loss: 7.7277 - mean_absolute_error: 2.0104\n",
            "Epoch 27/80\n",
            "404/404 [==============================] - 0s 87us/step - loss: 7.9088 - mean_absolute_error: 1.9904\n",
            "Epoch 28/80\n",
            "404/404 [==============================] - 0s 91us/step - loss: 7.3135 - mean_absolute_error: 1.9095\n",
            "Epoch 29/80\n",
            "404/404 [==============================] - 0s 104us/step - loss: 7.5786 - mean_absolute_error: 1.9545\n",
            "Epoch 30/80\n",
            "404/404 [==============================] - 0s 104us/step - loss: 7.1802 - mean_absolute_error: 1.9243\n",
            "Epoch 31/80\n",
            "404/404 [==============================] - 0s 111us/step - loss: 7.2961 - mean_absolute_error: 1.9247\n",
            "Epoch 32/80\n",
            "404/404 [==============================] - 0s 102us/step - loss: 7.3034 - mean_absolute_error: 1.9562\n",
            "Epoch 33/80\n",
            "404/404 [==============================] - 0s 97us/step - loss: 6.4423 - mean_absolute_error: 1.8257\n",
            "Epoch 34/80\n",
            "404/404 [==============================] - 0s 100us/step - loss: 7.1727 - mean_absolute_error: 1.8816\n",
            "Epoch 35/80\n",
            "404/404 [==============================] - 0s 104us/step - loss: 6.9804 - mean_absolute_error: 1.8495\n",
            "Epoch 36/80\n",
            "404/404 [==============================] - 0s 95us/step - loss: 6.3867 - mean_absolute_error: 1.8239\n",
            "Epoch 37/80\n",
            "404/404 [==============================] - 0s 101us/step - loss: 6.4760 - mean_absolute_error: 1.8951\n",
            "Epoch 38/80\n",
            "404/404 [==============================] - 0s 91us/step - loss: 6.4963 - mean_absolute_error: 1.8408\n",
            "Epoch 39/80\n",
            "404/404 [==============================] - 0s 94us/step - loss: 5.9820 - mean_absolute_error: 1.7384\n",
            "Epoch 40/80\n",
            "404/404 [==============================] - 0s 91us/step - loss: 6.2790 - mean_absolute_error: 1.8216\n",
            "Epoch 41/80\n",
            "404/404 [==============================] - 0s 93us/step - loss: 6.0723 - mean_absolute_error: 1.7294\n",
            "Epoch 42/80\n",
            "404/404 [==============================] - 0s 96us/step - loss: 6.1388 - mean_absolute_error: 1.7841\n",
            "Epoch 43/80\n",
            "404/404 [==============================] - 0s 98us/step - loss: 5.5710 - mean_absolute_error: 1.6788\n",
            "Epoch 44/80\n",
            "404/404 [==============================] - 0s 101us/step - loss: 6.2933 - mean_absolute_error: 1.7940\n",
            "Epoch 45/80\n",
            "404/404 [==============================] - 0s 96us/step - loss: 5.8928 - mean_absolute_error: 1.7049\n",
            "Epoch 46/80\n",
            "404/404 [==============================] - 0s 99us/step - loss: 5.6315 - mean_absolute_error: 1.7019\n",
            "Epoch 47/80\n",
            "404/404 [==============================] - 0s 94us/step - loss: 5.4661 - mean_absolute_error: 1.7031\n",
            "Epoch 48/80\n",
            "404/404 [==============================] - 0s 93us/step - loss: 5.8580 - mean_absolute_error: 1.7529\n",
            "Epoch 49/80\n",
            "404/404 [==============================] - 0s 100us/step - loss: 5.4516 - mean_absolute_error: 1.6981\n",
            "Epoch 50/80\n",
            "404/404 [==============================] - 0s 81us/step - loss: 5.9755 - mean_absolute_error: 1.7769\n",
            "Epoch 51/80\n",
            "404/404 [==============================] - 0s 88us/step - loss: 5.4110 - mean_absolute_error: 1.7013\n",
            "Epoch 52/80\n",
            "404/404 [==============================] - 0s 90us/step - loss: 5.5101 - mean_absolute_error: 1.7216\n",
            "Epoch 53/80\n",
            "404/404 [==============================] - 0s 96us/step - loss: 5.3619 - mean_absolute_error: 1.6691\n",
            "Epoch 54/80\n",
            "404/404 [==============================] - 0s 99us/step - loss: 5.4492 - mean_absolute_error: 1.6710\n",
            "Epoch 55/80\n",
            "404/404 [==============================] - 0s 96us/step - loss: 5.0172 - mean_absolute_error: 1.6227\n",
            "Epoch 56/80\n",
            "404/404 [==============================] - 0s 93us/step - loss: 5.1570 - mean_absolute_error: 1.6395\n",
            "Epoch 57/80\n",
            "404/404 [==============================] - 0s 93us/step - loss: 5.6300 - mean_absolute_error: 1.7069\n",
            "Epoch 58/80\n",
            "404/404 [==============================] - 0s 87us/step - loss: 5.0204 - mean_absolute_error: 1.6614\n",
            "Epoch 59/80\n",
            "404/404 [==============================] - 0s 99us/step - loss: 5.0622 - mean_absolute_error: 1.6400\n",
            "Epoch 60/80\n",
            "404/404 [==============================] - 0s 88us/step - loss: 5.0017 - mean_absolute_error: 1.6167\n",
            "Epoch 61/80\n",
            "404/404 [==============================] - 0s 86us/step - loss: 4.7567 - mean_absolute_error: 1.5613\n",
            "Epoch 62/80\n",
            "404/404 [==============================] - 0s 91us/step - loss: 4.7322 - mean_absolute_error: 1.6300\n",
            "Epoch 63/80\n",
            "404/404 [==============================] - 0s 87us/step - loss: 4.9148 - mean_absolute_error: 1.5957\n",
            "Epoch 64/80\n",
            "404/404 [==============================] - 0s 91us/step - loss: 4.8289 - mean_absolute_error: 1.5832\n",
            "Epoch 65/80\n",
            "404/404 [==============================] - 0s 94us/step - loss: 4.6551 - mean_absolute_error: 1.5872\n",
            "Epoch 66/80\n",
            "404/404 [==============================] - 0s 92us/step - loss: 4.4576 - mean_absolute_error: 1.5216\n",
            "Epoch 67/80\n",
            "404/404 [==============================] - 0s 87us/step - loss: 4.8282 - mean_absolute_error: 1.5968\n",
            "Epoch 68/80\n",
            "404/404 [==============================] - 0s 103us/step - loss: 4.3450 - mean_absolute_error: 1.5000\n",
            "Epoch 69/80\n",
            "404/404 [==============================] - 0s 112us/step - loss: 4.2862 - mean_absolute_error: 1.5210\n",
            "Epoch 70/80\n",
            "404/404 [==============================] - 0s 98us/step - loss: 4.6685 - mean_absolute_error: 1.5639\n",
            "Epoch 71/80\n",
            "404/404 [==============================] - 0s 86us/step - loss: 4.2180 - mean_absolute_error: 1.5021\n",
            "Epoch 72/80\n",
            "404/404 [==============================] - 0s 88us/step - loss: 4.8204 - mean_absolute_error: 1.6052\n",
            "Epoch 73/80\n",
            "404/404 [==============================] - 0s 88us/step - loss: 4.5611 - mean_absolute_error: 1.5488\n",
            "Epoch 74/80\n",
            "404/404 [==============================] - 0s 94us/step - loss: 4.0031 - mean_absolute_error: 1.4332\n",
            "Epoch 75/80\n",
            "404/404 [==============================] - 0s 94us/step - loss: 4.3231 - mean_absolute_error: 1.5106\n",
            "Epoch 76/80\n",
            "404/404 [==============================] - 0s 95us/step - loss: 4.0769 - mean_absolute_error: 1.4793\n",
            "Epoch 77/80\n",
            "404/404 [==============================] - 0s 99us/step - loss: 4.2419 - mean_absolute_error: 1.5254\n",
            "Epoch 78/80\n",
            "404/404 [==============================] - 0s 95us/step - loss: 3.8849 - mean_absolute_error: 1.4398\n",
            "Epoch 79/80\n",
            "404/404 [==============================] - 0s 90us/step - loss: 4.2683 - mean_absolute_error: 1.5120\n",
            "Epoch 80/80\n",
            "404/404 [==============================] - 0s 114us/step - loss: 4.2627 - mean_absolute_error: 1.5260\n",
            "102/102 [==============================] - 0s 2ms/step\n"
          ],
          "name": "stdout"
        }
      ]
    },
    {
      "metadata": {
        "id": "88-YKM5BOHwI",
        "colab_type": "code",
        "outputId": "c8a631ba-b699-4910-a90a-9d79cb525560",
        "colab": {
          "base_uri": "https://localhost:8080/",
          "height": 34
        }
      },
      "cell_type": "code",
      "source": [
        "# Test mean square error\n",
        "test_mse_score"
      ],
      "execution_count": 20,
      "outputs": [
        {
          "output_type": "execute_result",
          "data": {
            "text/plain": [
              "15.629331850538067"
            ]
          },
          "metadata": {
            "tags": []
          },
          "execution_count": 20
        }
      ]
    },
    {
      "metadata": {
        "id": "fkP5hakdOMUe",
        "colab_type": "code",
        "colab": {
          "base_uri": "https://localhost:8080/",
          "height": 34
        },
        "outputId": "e093acd7-dbc8-4d1c-f7a6-aff3492583d6"
      },
      "cell_type": "code",
      "source": [
        "# Test mean absolute error\n",
        "test_mae_score"
      ],
      "execution_count": 21,
      "outputs": [
        {
          "output_type": "execute_result",
          "data": {
            "text/plain": [
              "2.5181972279268154"
            ]
          },
          "metadata": {
            "tags": []
          },
          "execution_count": 21
        }
      ]
    },
    {
      "metadata": {
        "id": "TmW7QsXhQfdx",
        "colab_type": "code",
        "colab": {}
      },
      "cell_type": "code",
      "source": [
        ""
      ],
      "execution_count": 0,
      "outputs": []
    }
  ]
}