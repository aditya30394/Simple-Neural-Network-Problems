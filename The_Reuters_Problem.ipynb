{
  "nbformat": 4,
  "nbformat_minor": 0,
  "metadata": {
    "colab": {
      "name": "The Reuters Problem.ipynb",
      "version": "0.3.2",
      "provenance": [],
      "collapsed_sections": []
    },
    "kernelspec": {
      "name": "python3",
      "display_name": "Python 3"
    }
  },
  "cells": [
    {
      "metadata": {
        "id": "rFPFZBm2J-ZJ",
        "colab_type": "code",
        "outputId": "8e9516ab-634c-4b49-f9e6-c778a35cd452",
        "colab": {
          "base_uri": "https://localhost:8080/",
          "height": 68
        }
      },
      "cell_type": "code",
      "source": [
        "#import the dataset\n",
        "\n",
        "from keras.datasets import reuters\n",
        "\n",
        "(train_data, train_labels), (test_data, test_labels) = reuters.load_data(\n",
        "    num_words=10000)"
      ],
      "execution_count": 1,
      "outputs": [
        {
          "output_type": "stream",
          "text": [
            "Using TensorFlow backend.\n"
          ],
          "name": "stderr"
        },
        {
          "output_type": "stream",
          "text": [
            "Downloading data from https://s3.amazonaws.com/text-datasets/reuters.npz\n",
            "2113536/2110848 [==============================] - 0s 0us/step\n"
          ],
          "name": "stdout"
        }
      ]
    },
    {
      "metadata": {
        "id": "hjmA0RS0KCLv",
        "colab_type": "code",
        "colab": {}
      },
      "cell_type": "code",
      "source": [
        "# vectorize the input\n",
        "import numpy as np\n",
        "\n",
        "def vectorize_sequences(sequences, dimension=10000):\n",
        "    results = np.zeros((len(sequences), dimension))\n",
        "    for i, sequence in enumerate(sequences):\n",
        "        results[i, sequence] = 1.\n",
        "    return results\n",
        "\n",
        "x_train = vectorize_sequences(train_data)\n",
        "x_test = vectorize_sequences(test_data)\n"
      ],
      "execution_count": 0,
      "outputs": []
    },
    {
      "metadata": {
        "id": "lMqeVuIJKIo0",
        "colab_type": "code",
        "colab": {}
      },
      "cell_type": "code",
      "source": [
        "# use one ht encoding for the labels\n",
        "from keras.utils.np_utils import to_categorical\n",
        "\n",
        "one_hot_train_labels = to_categorical(train_labels)\n",
        "one_hot_test_labels = to_categorical(test_labels)\n"
      ],
      "execution_count": 0,
      "outputs": []
    },
    {
      "metadata": {
        "id": "UUxqp2NKKLu_",
        "colab_type": "code",
        "colab": {}
      },
      "cell_type": "code",
      "source": [
        "from keras import models\n",
        "from keras import layers\n",
        "\n",
        "# Define the structure of the model \n",
        "model = models.Sequential()\n",
        "model.add(layers.Dense(256, activation='relu', input_shape=(10000,)))\n",
        "model.add(layers.Dense(128, activation='relu'))\n",
        "model.add(layers.Dense(64, activation='relu'))\n",
        "model.add(layers.Dense(46, activation='softmax'))\n",
        "# use softmax for the last layer"
      ],
      "execution_count": 0,
      "outputs": []
    },
    {
      "metadata": {
        "id": "qACcCDTJKQr4",
        "colab_type": "code",
        "colab": {}
      },
      "cell_type": "code",
      "source": [
        "# Compile the model, configure the optimizer\n",
        "model.compile(optimizer='rmsprop',\n",
        "              loss='categorical_crossentropy',\n",
        "              metrics=['accuracy'])\n"
      ],
      "execution_count": 0,
      "outputs": []
    },
    {
      "metadata": {
        "id": "qhthUIoQKS6H",
        "colab_type": "code",
        "colab": {}
      },
      "cell_type": "code",
      "source": [
        "# Split the training set for hyperparameter tuning. \n",
        "# Here we try to tune the ideal number of epochs to get the best result\n",
        "\n",
        "x_val = x_train[:1000]\n",
        "partial_x_train = x_train[1000:]\n",
        "\n",
        "y_val = one_hot_train_labels[:1000]\n",
        "partial_y_train = one_hot_train_labels[1000:]"
      ],
      "execution_count": 0,
      "outputs": []
    },
    {
      "metadata": {
        "id": "KCTMpZDDKUUY",
        "colab_type": "code",
        "outputId": "90396761-1d1c-4703-ffcc-4dbd7b65a11c",
        "colab": {
          "base_uri": "https://localhost:8080/",
          "height": 714
        }
      },
      "cell_type": "code",
      "source": [
        "# Training Phase. Record the accuracy and error/loss for tuning later on\n",
        "history = model.fit(partial_x_train,\n",
        "                    partial_y_train,\n",
        "                    epochs=20,\n",
        "                    batch_size=512,\n",
        "                    validation_data=(x_val, y_val))"
      ],
      "execution_count": 15,
      "outputs": [
        {
          "output_type": "stream",
          "text": [
            "Train on 7982 samples, validate on 1000 samples\n",
            "Epoch 1/20\n",
            "7982/7982 [==============================] - 3s 350us/step - loss: 2.1991 - acc: 0.5380 - val_loss: 1.4432 - val_acc: 0.6650\n",
            "Epoch 2/20\n",
            "7982/7982 [==============================] - 2s 306us/step - loss: 1.1185 - acc: 0.7437 - val_loss: 1.1555 - val_acc: 0.7310\n",
            "Epoch 3/20\n",
            "7982/7982 [==============================] - 2s 302us/step - loss: 0.7859 - acc: 0.8205 - val_loss: 1.0157 - val_acc: 0.7790\n",
            "Epoch 4/20\n",
            "7982/7982 [==============================] - 2s 301us/step - loss: 0.5466 - acc: 0.8791 - val_loss: 0.9962 - val_acc: 0.7840\n",
            "Epoch 5/20\n",
            "7982/7982 [==============================] - 2s 302us/step - loss: 0.3857 - acc: 0.9181 - val_loss: 1.0121 - val_acc: 0.7930\n",
            "Epoch 6/20\n",
            "7982/7982 [==============================] - 2s 303us/step - loss: 0.2722 - acc: 0.9406 - val_loss: 0.8973 - val_acc: 0.8200\n",
            "Epoch 7/20\n",
            "7982/7982 [==============================] - 2s 304us/step - loss: 0.2245 - acc: 0.9466 - val_loss: 1.0595 - val_acc: 0.7880\n",
            "Epoch 8/20\n",
            "7982/7982 [==============================] - 2s 304us/step - loss: 0.2017 - acc: 0.9454 - val_loss: 0.9748 - val_acc: 0.8130\n",
            "Epoch 9/20\n",
            "7982/7982 [==============================] - 2s 303us/step - loss: 0.1563 - acc: 0.9557 - val_loss: 0.9890 - val_acc: 0.8220\n",
            "Epoch 10/20\n",
            "7982/7982 [==============================] - 2s 303us/step - loss: 0.1555 - acc: 0.9541 - val_loss: 0.9773 - val_acc: 0.8160\n",
            "Epoch 11/20\n",
            "7982/7982 [==============================] - 2s 301us/step - loss: 0.1351 - acc: 0.9549 - val_loss: 0.9796 - val_acc: 0.8170\n",
            "Epoch 12/20\n",
            "7982/7982 [==============================] - 2s 302us/step - loss: 0.1260 - acc: 0.9565 - val_loss: 1.3098 - val_acc: 0.7560\n",
            "Epoch 13/20\n",
            "7982/7982 [==============================] - 2s 301us/step - loss: 0.1226 - acc: 0.9554 - val_loss: 1.0709 - val_acc: 0.8070\n",
            "Epoch 14/20\n",
            "7982/7982 [==============================] - 2s 300us/step - loss: 0.1132 - acc: 0.9565 - val_loss: 1.1407 - val_acc: 0.7870\n",
            "Epoch 15/20\n",
            "7982/7982 [==============================] - 2s 302us/step - loss: 0.1099 - acc: 0.9564 - val_loss: 1.1085 - val_acc: 0.7920\n",
            "Epoch 16/20\n",
            "7982/7982 [==============================] - 2s 300us/step - loss: 0.1097 - acc: 0.9565 - val_loss: 1.2080 - val_acc: 0.7890\n",
            "Epoch 17/20\n",
            "7982/7982 [==============================] - 2s 302us/step - loss: 0.1025 - acc: 0.9583 - val_loss: 1.1021 - val_acc: 0.8130\n",
            "Epoch 18/20\n",
            "7982/7982 [==============================] - 2s 301us/step - loss: 0.0968 - acc: 0.9582 - val_loss: 1.2318 - val_acc: 0.7750\n",
            "Epoch 19/20\n",
            "7982/7982 [==============================] - 2s 302us/step - loss: 0.0967 - acc: 0.9575 - val_loss: 1.1054 - val_acc: 0.7970\n",
            "Epoch 20/20\n",
            "7982/7982 [==============================] - 2s 304us/step - loss: 0.0928 - acc: 0.9573 - val_loss: 1.1271 - val_acc: 0.8060\n"
          ],
          "name": "stdout"
        }
      ]
    },
    {
      "metadata": {
        "id": "lEzeZ4QCKVpw",
        "colab_type": "code",
        "outputId": "222d4fb4-7c58-438a-a34a-0271ae8bf01e",
        "colab": {
          "base_uri": "https://localhost:8080/",
          "height": 376
        }
      },
      "cell_type": "code",
      "source": [
        "# Plotting the training and validation loss for tuning the number of epochs\n",
        "import matplotlib.pyplot as plt\n",
        "\n",
        "loss = history.history['loss']\n",
        "val_loss = history.history['val_loss']\n",
        "\n",
        "epochs = range(1, len(loss) + 1)\n",
        "\n",
        "plt.plot(epochs, loss, 'bo', label='Training loss')\n",
        "plt.plot(epochs, val_loss, 'b', label='Validation loss')\n",
        "plt.title('Training and validation loss')\n",
        "plt.xlabel('Epochs')\n",
        "plt.ylabel('Loss')\n",
        "plt.legend()\n",
        "\n",
        "plt.show()"
      ],
      "execution_count": 17,
      "outputs": [
        {
          "output_type": "display_data",
          "data": {
            "image/png": "[encoded data removed]",
            "text/plain": [
              "<Figure size 576x396 with 1 Axes>"
            ]
          },
          "metadata": {
            "tags": []
          }
        }
      ]
    },
    {
      "metadata": {
        "id": "VCgznhQGKZHp",
        "colab_type": "code",
        "outputId": "9d26a366-0a4f-440a-df00-d64896737faf",
        "colab": {
          "base_uri": "https://localhost:8080/",
          "height": 376
        }
      },
      "cell_type": "code",
      "source": [
        "# Plotting the accuracy curves\n",
        "\n",
        "plt.clf()\n",
        "\n",
        "acc = history.history['acc']\n",
        "val_acc = history.history['val_acc']\n",
        "\n",
        "plt.plot(epochs, acc, 'bo', label='Training acc')\n",
        "plt.plot(epochs, val_acc, 'b', label='Validation acc')\n",
        "plt.title('Training and validation accuracy')\n",
        "plt.xlabel('Epochs')\n",
        "plt.ylabel('Loss')\n",
        "plt.legend()\n",
        "\n",
        "plt.show()\n"
      ],
      "execution_count": 18,
      "outputs": [
        {
          "output_type": "display_data",
          "data": {
            "image/png": "[encoded data removed]",
            "text/plain": [
              "<Figure size 576x396 with 1 Axes>"
            ]
          },
          "metadata": {
            "tags": []
          }
        }
      ]
    },
    {
      "metadata": {
        "id": "HfVxABtrKePo",
        "colab_type": "code",
        "outputId": "891e40b6-5da6-4d39-cf0b-74d872a156cd",
        "colab": {
          "base_uri": "https://localhost:8080/",
          "height": 238
        }
      },
      "cell_type": "code",
      "source": [
        "# The ideal number of epochs looks to be 6. So retrain the model using all the\n",
        "# training examples\n",
        "\n",
        "model = models.Sequential()\n",
        "model.add(layers.Dense(256, activation='relu', input_shape=(10000,)))\n",
        "model.add(layers.Dense(128, activation='relu'))\n",
        "model.add(layers.Dense(64, activation='relu'))\n",
        "model.add(layers.Dense(46, activation='softmax'))\n",
        "\n",
        "model.compile(optimizer='rmsprop',\n",
        "              loss='categorical_crossentropy',\n",
        "              metrics=['accuracy'])\n",
        "model.fit(x_train,\n",
        "          one_hot_train_labels,\n",
        "          epochs=6,\n",
        "          batch_size=512)\n",
        "# make prediction on unseen data now - test data\n",
        "predictions = model.evaluate(x_test, one_hot_test_labels)"
      ],
      "execution_count": 19,
      "outputs": [
        {
          "output_type": "stream",
          "text": [
            "Epoch 1/6\n",
            "8982/8982 [==============================] - 3s 372us/step - loss: 2.0618 - acc: 0.5547\n",
            "Epoch 2/6\n",
            "8982/8982 [==============================] - 3s 309us/step - loss: 1.0416 - acc: 0.7733\n",
            "Epoch 3/6\n",
            "8982/8982 [==============================] - 3s 306us/step - loss: 0.7221 - acc: 0.8407\n",
            "Epoch 4/6\n",
            "8982/8982 [==============================] - 3s 303us/step - loss: 0.4896 - acc: 0.8903\n",
            "Epoch 5/6\n",
            "8982/8982 [==============================] - 3s 304us/step - loss: 0.3618 - acc: 0.9179\n",
            "Epoch 6/6\n",
            "8982/8982 [==============================] - 3s 301us/step - loss: 0.2537 - acc: 0.9401\n",
            "2246/2246 [==============================] - 1s 298us/step\n"
          ],
          "name": "stdout"
        }
      ]
    },
    {
      "metadata": {
        "id": "OEFtvEzEKiWJ",
        "colab_type": "code",
        "outputId": "8400a049-7155-471c-822f-10008f591936",
        "colab": {
          "base_uri": "https://localhost:8080/",
          "height": 34
        }
      },
      "cell_type": "code",
      "source": [
        "predictions"
      ],
      "execution_count": 20,
      "outputs": [
        {
          "output_type": "execute_result",
          "data": {
            "text/plain": [
              "[0.9857225294953887, 0.8005342832231565]"
            ]
          },
          "metadata": {
            "tags": []
          },
          "execution_count": 20
        }
      ]
    },
    {
      "metadata": {
        "id": "-LOnMJJ5Ks_b",
        "colab_type": "code",
        "colab": {}
      },
      "cell_type": "code",
      "source": [
        ""
      ],
      "execution_count": 0,
      "outputs": []
    }
  ]
}